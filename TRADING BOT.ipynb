{
 "cells": [
  {
   "cell_type": "code",
   "execution_count": 1,
   "id": "95cba1fb",
   "metadata": {},
   "outputs": [
    {
     "name": "stdout",
     "output_type": "stream",
     "text": [
      "Collecting python-binance\n",
      "  Downloading python_binance-1.0.16-py2.py3-none-any.whl (65 kB)\n",
      "Requirement already satisfied: aiohttp in c:\\users\\vaio\\anaconda3\\lib\\site-packages (from python-binance) (3.8.1)\n",
      "Requirement already satisfied: six in c:\\users\\vaio\\anaconda3\\lib\\site-packages (from python-binance) (1.16.0)\n",
      "Requirement already satisfied: ujson in c:\\users\\vaio\\anaconda3\\lib\\site-packages (from python-binance) (5.1.0)\n",
      "Requirement already satisfied: requests in c:\\users\\vaio\\anaconda3\\lib\\site-packages (from python-binance) (2.27.1)\n",
      "Collecting websockets\n",
      "  Downloading websockets-10.3-cp39-cp39-win_amd64.whl (98 kB)\n",
      "Collecting dateparser\n",
      "  Downloading dateparser-1.1.1-py2.py3-none-any.whl (288 kB)\n",
      "Requirement already satisfied: attrs>=17.3.0 in c:\\users\\vaio\\anaconda3\\lib\\site-packages (from aiohttp->python-binance) (21.4.0)\n",
      "Requirement already satisfied: aiosignal>=1.1.2 in c:\\users\\vaio\\anaconda3\\lib\\site-packages (from aiohttp->python-binance) (1.2.0)\n",
      "Requirement already satisfied: yarl<2.0,>=1.0 in c:\\users\\vaio\\anaconda3\\lib\\site-packages (from aiohttp->python-binance) (1.6.3)\n",
      "Requirement already satisfied: charset-normalizer<3.0,>=2.0 in c:\\users\\vaio\\anaconda3\\lib\\site-packages (from aiohttp->python-binance) (2.0.4)\n",
      "Requirement already satisfied: multidict<7.0,>=4.5 in c:\\users\\vaio\\anaconda3\\lib\\site-packages (from aiohttp->python-binance) (5.1.0)\n",
      "Requirement already satisfied: frozenlist>=1.1.1 in c:\\users\\vaio\\anaconda3\\lib\\site-packages (from aiohttp->python-binance) (1.2.0)\n",
      "Requirement already satisfied: async-timeout<5.0,>=4.0.0a3 in c:\\users\\vaio\\anaconda3\\lib\\site-packages (from aiohttp->python-binance) (4.0.1)\n",
      "Requirement already satisfied: typing-extensions>=3.6.5 in c:\\users\\vaio\\anaconda3\\lib\\site-packages (from async-timeout<5.0,>=4.0.0a3->aiohttp->python-binance) (4.1.1)\n",
      "Note: you may need to restart the kernel to use updated packages.\n",
      "Requirement already satisfied: idna>=2.0 in c:\\users\\vaio\\anaconda3\\lib\\site-packages (from yarl<2.0,>=1.0->aiohttp->python-binance) (3.3)\n",
      "Collecting tzlocal\n",
      "  Downloading tzlocal-4.2-py3-none-any.whl (19 kB)\n",
      "Collecting regex!=2019.02.19,!=2021.8.27,<2022.3.15\n",
      "  Downloading regex-2022.3.2-cp39-cp39-win_amd64.whl (274 kB)\n",
      "Requirement already satisfied: pytz in c:\\users\\vaio\\anaconda3\\lib\\site-packages (from dateparser->python-binance) (2021.3)\n",
      "Requirement already satisfied: python-dateutil in c:\\users\\vaio\\anaconda3\\lib\\site-packages (from dateparser->python-binance) (2.8.2)\n",
      "Requirement already satisfied: urllib3<1.27,>=1.21.1 in c:\\users\\vaio\\anaconda3\\lib\\site-packages (from requests->python-binance) (1.26.9)\n",
      "Requirement already satisfied: certifi>=2017.4.17 in c:\\users\\vaio\\anaconda3\\lib\\site-packages (from requests->python-binance) (2021.10.8)\n",
      "Collecting tzdata\n",
      "  Downloading tzdata-2022.1-py2.py3-none-any.whl (339 kB)\n",
      "Collecting pytz-deprecation-shim\n",
      "  Downloading pytz_deprecation_shim-0.1.0.post0-py2.py3-none-any.whl (15 kB)\n",
      "Installing collected packages: tzdata, pytz-deprecation-shim, tzlocal, regex, websockets, dateparser, python-binance\n",
      "  Attempting uninstall: regex\n",
      "    Found existing installation: regex 2022.3.15\n",
      "    Uninstalling regex-2022.3.15:\n",
      "      Successfully uninstalled regex-2022.3.15\n",
      "Successfully installed dateparser-1.1.1 python-binance-1.0.16 pytz-deprecation-shim-0.1.0.post0 regex-2022.3.2 tzdata-2022.1 tzlocal-4.2 websockets-10.3\n"
     ]
    }
   ],
   "source": [
    "pip install python-binance "
   ]
  },
  {
   "cell_type": "code",
   "execution_count": 2,
   "id": "1a53a4e7",
   "metadata": {},
   "outputs": [
    {
     "name": "stdout",
     "output_type": "stream",
     "text": [
      "Collecting ta\n",
      "  Downloading ta-0.10.1.tar.gz (24 kB)\n",
      "Requirement already satisfied: numpy in c:\\users\\vaio\\anaconda3\\lib\\site-packages (from ta) (1.21.5)\n",
      "Requirement already satisfied: pandas in c:\\users\\vaio\\anaconda3\\lib\\site-packages (from ta) (1.4.2)\n",
      "Requirement already satisfied: python-dateutil>=2.8.1 in c:\\users\\vaio\\anaconda3\\lib\\site-packages (from pandas->ta) (2.8.2)\n",
      "Requirement already satisfied: pytz>=2020.1 in c:\\users\\vaio\\anaconda3\\lib\\site-packages (from pandas->ta) (2021.3)\n",
      "Requirement already satisfied: six>=1.5 in c:\\users\\vaio\\anaconda3\\lib\\site-packages (from python-dateutil>=2.8.1->pandas->ta) (1.16.0)\n",
      "Building wheels for collected packages: ta\n",
      "  Building wheel for ta (setup.py): started\n",
      "  Building wheel for ta (setup.py): finished with status 'done'\n",
      "  Created wheel for ta: filename=ta-0.10.1-py3-none-any.whl size=28986 sha256=7de2d4d6843e6aef3c595732ab8e25b2b8698646839000a472805d96f116b774\n",
      "  Stored in directory: c:\\users\\vaio\\appdata\\local\\pip\\cache\\wheels\\fa\\f5\\2a\\22332fca050eb5e48116f8534cd267d50cffcd1e7581606150\n",
      "Successfully built ta\n",
      "Installing collected packages: ta\n",
      "Successfully installed ta-0.10.1\n",
      "Note: you may need to restart the kernel to use updated packages.\n"
     ]
    }
   ],
   "source": [
    "pip install ta "
   ]
  },
  {
   "cell_type": "markdown",
   "id": "a7715325",
   "metadata": {},
   "source": [
    "# Import define Client and Download Data"
   ]
  },
  {
   "cell_type": "code",
   "execution_count": 21,
   "id": "e61ea915",
   "metadata": {},
   "outputs": [],
   "source": [
    "import pandas as pd\n",
    "from binance.client import Client  \n",
    "import ta\n",
    "klinesT = Client().get_historical_klines(\"BTCUSDT\", Client.KLINE_INTERVAL_1HOUR, \"01 January 2016\")#recuperer les donnees heure par heure depuis 2016\n",
    "df = pd.DataFrame(klinesT, columns = ['timestamp', 'open', 'high', 'low', 'close', 'volume', 'close_time', 'quote_av', 'trades', 'tb_base_av', 'tb_quote_av', 'ignore'])#construction du dataframe"
   ]
  },
  {
   "cell_type": "code",
   "execution_count": 22,
   "id": "f1fb423c",
   "metadata": {},
   "outputs": [
    {
     "name": "stdout",
     "output_type": "stream",
     "text": [
      "           timestamp            open            high             low  \\\n",
      "0      1502942400000   4261.48000000   4313.62000000   4261.32000000   \n",
      "1      1502946000000   4308.83000000   4328.69000000   4291.37000000   \n",
      "2      1502949600000   4330.29000000   4345.45000000   4309.37000000   \n",
      "3      1502953200000   4316.62000000   4349.99000000   4287.41000000   \n",
      "4      1502956800000   4333.32000000   4377.85000000   4333.32000000   \n",
      "...              ...             ...             ...             ...   \n",
      "43058  1658404800000  22607.92000000  22850.00000000  22542.14000000   \n",
      "43059  1658408400000  22802.82000000  22812.77000000  22561.27000000   \n",
      "43060  1658412000000  22702.30000000  22761.77000000  22341.46000000   \n",
      "43061  1658415600000  22555.31000000  22679.24000000  22520.17000000   \n",
      "43062  1658419200000  22639.37000000  22980.00000000  22632.72000000   \n",
      "\n",
      "                close          volume     close_time            quote_av  \\\n",
      "0       4308.83000000     47.18100900  1502945999999     202366.13839304   \n",
      "1       4315.32000000     23.23491600  1502949599999     100304.82356749   \n",
      "2       4324.35000000      7.22969100  1502953199999      31282.31266989   \n",
      "3       4349.99000000      4.44324900  1502956799999      19241.05829986   \n",
      "4       4360.69000000      0.97280700  1502960399999       4239.50358563   \n",
      "...               ...             ...            ...                 ...   \n",
      "43058  22800.20000000   9839.15857000  1658408399999  223587386.59599920   \n",
      "43059  22704.96000000  10543.33923000  1658411999999  239219562.95155900   \n",
      "43060  22558.20000000  12186.72997000  1658415599999  274381299.21410540   \n",
      "43061  22642.34000000   6414.29306000  1658419199999  144955020.04101990   \n",
      "43062  22975.31000000   4663.00642000  1658422799999  106505939.11352710   \n",
      "\n",
      "       trades     tb_base_av         tb_quote_av         ignore  \n",
      "0         171    35.16050300     150952.47794304  7887.63551305  \n",
      "1         102    21.44807100      92608.27972836  8039.26240152  \n",
      "2          36     4.80286100      20795.31722405  8041.76049845  \n",
      "3          25     2.60229200      11291.34701534  8048.12788573  \n",
      "4          28     0.81465500       3552.74681715  8018.03650010  \n",
      "...       ...            ...                 ...            ...  \n",
      "43058  237007  4943.75605000  112358552.20061490              0  \n",
      "43059  258878  5278.18411000  119763820.77082020              0  \n",
      "43060  290817  5967.15958000  134355636.37391590              0  \n",
      "43061  172447  3325.37898000   75154156.99361940              0  \n",
      "43062   96906  2473.18654000   56484780.44222800              0  \n",
      "\n",
      "[43063 rows x 12 columns]\n"
     ]
    }
   ],
   "source": [
    "print(df)"
   ]
  },
  {
   "cell_type": "markdown",
   "id": "bd89cfeb",
   "metadata": {},
   "source": [
    "# Clean DATA"
   ]
  },
  {
   "cell_type": "code",
   "execution_count": 23,
   "id": "89fe279e",
   "metadata": {},
   "outputs": [
    {
     "name": "stdout",
     "output_type": "stream",
     "text": [
      "                         open      high       low     close          volume\n",
      "timestamp                                                                  \n",
      "2017-08-17 04:00:00   4261.48   4313.62   4261.32   4308.83     47.18100900\n",
      "2017-08-17 05:00:00   4308.83   4328.69   4291.37   4315.32     23.23491600\n",
      "2017-08-17 06:00:00   4330.29   4345.45   4309.37   4324.35      7.22969100\n",
      "2017-08-17 07:00:00   4316.62   4349.99   4287.41   4349.99      4.44324900\n",
      "2017-08-17 08:00:00   4333.32   4377.85   4333.32   4360.69      0.97280700\n",
      "...                       ...       ...       ...       ...             ...\n",
      "2022-07-21 12:00:00  22607.92  22850.00  22542.14  22800.20   9839.15857000\n",
      "2022-07-21 13:00:00  22802.82  22812.77  22561.27  22704.96  10543.33923000\n",
      "2022-07-21 14:00:00  22702.30  22761.77  22341.46  22558.20  12186.72997000\n",
      "2022-07-21 15:00:00  22555.31  22679.24  22520.17  22642.34   6414.29306000\n",
      "2022-07-21 16:00:00  22639.37  22980.00  22632.72  22975.31   4663.00642000\n",
      "\n",
      "[43063 rows x 5 columns]\n"
     ]
    }
   ],
   "source": [
    "#suppression des colonnes dont on a pas besoin\n",
    "del df['ignore']\n",
    "del df['close_time']\n",
    "del df['quote_av']\n",
    "del df['trades']\n",
    "del df['tb_base_av']\n",
    "del df['tb_quote_av']\n",
    "\n",
    "df['close'] = pd.to_numeric(df['close'])\n",
    "df['high'] = pd.to_numeric(df['high'])\n",
    "df['low'] = pd.to_numeric(df['low'])\n",
    "df['open'] = pd.to_numeric(df['open'])\n",
    "#transformer les timepstamp en timestamp lisible\n",
    "df = df.set_index(df['timestamp'])\n",
    "df.index = pd.to_datetime(df.index, unit='ms')\n",
    "del df['timestamp']\n",
    "print(df)"
   ]
  },
  {
   "cell_type": "markdown",
   "id": "5610e2ea",
   "metadata": {},
   "source": [
    "# Define Indicators SMA200 and SMA600"
   ]
  },
  {
   "cell_type": "code",
   "execution_count": 24,
   "id": "ba357ca3",
   "metadata": {},
   "outputs": [
    {
     "name": "stdout",
     "output_type": "stream",
     "text": [
      "                         open      high       low     close          volume  \\\n",
      "timestamp                                                                     \n",
      "2017-08-17 04:00:00   4261.48   4313.62   4261.32   4308.83     47.18100900   \n",
      "2017-08-17 05:00:00   4308.83   4328.69   4291.37   4315.32     23.23491600   \n",
      "2017-08-17 06:00:00   4330.29   4345.45   4309.37   4324.35      7.22969100   \n",
      "2017-08-17 07:00:00   4316.62   4349.99   4287.41   4349.99      4.44324900   \n",
      "2017-08-17 08:00:00   4333.32   4377.85   4333.32   4360.69      0.97280700   \n",
      "...                       ...       ...       ...       ...             ...   \n",
      "2022-07-21 12:00:00  22607.92  22850.00  22542.14  22800.20   9839.15857000   \n",
      "2022-07-21 13:00:00  22802.82  22812.77  22561.27  22704.96  10543.33923000   \n",
      "2022-07-21 14:00:00  22702.30  22761.77  22341.46  22558.20  12186.72997000   \n",
      "2022-07-21 15:00:00  22555.31  22679.24  22520.17  22642.34   6414.29306000   \n",
      "2022-07-21 16:00:00  22639.37  22980.00  22632.72  22975.31   4663.00642000   \n",
      "\n",
      "                          SMA200        SMA600  \n",
      "timestamp                                       \n",
      "2017-08-17 04:00:00          NaN           NaN  \n",
      "2017-08-17 05:00:00          NaN           NaN  \n",
      "2017-08-17 06:00:00          NaN           NaN  \n",
      "2017-08-17 07:00:00          NaN           NaN  \n",
      "2017-08-17 08:00:00          NaN           NaN  \n",
      "...                          ...           ...  \n",
      "2022-07-21 12:00:00  21488.05170  20695.075383  \n",
      "2022-07-21 13:00:00  21503.97650  20697.235433  \n",
      "2022-07-21 14:00:00  21519.03140  20699.146467  \n",
      "2022-07-21 15:00:00  21533.71685  20701.340183  \n",
      "2022-07-21 16:00:00  21549.32380  20704.045667  \n",
      "\n",
      "[43063 rows x 7 columns]\n"
     ]
    }
   ],
   "source": [
    "df['SMA200'] = ta.trend.sma_indicator(df['close'], 200)\n",
    "df['SMA600'] = ta.trend.sma_indicator(df['close'], 600)\n",
    "print(df)"
   ]
  },
  {
   "cell_type": "markdown",
   "id": "f8ffbeae",
   "metadata": {},
   "source": [
    "# Make Backtest"
   ]
  },
  {
   "cell_type": "code",
   "execution_count": 25,
   "id": "5d124e1b",
   "metadata": {},
   "outputs": [
    {
     "name": "stdout",
     "output_type": "stream",
     "text": [
      "Buy BTC at 4191.53 $ 2017-09-11 11:00:00\n",
      "Sell BTC at 4259.44 $ 2017-09-12 13:00:00\n",
      "Buy BTC at 4302.02 $ 2017-10-01 08:00:00\n",
      "Sell BTC at 16351.02 $ 2017-12-27 05:00:00\n",
      "Buy BTC at 14219.61 $ 2018-01-10 06:00:00\n",
      "Sell BTC at 14195.0 $ 2018-01-15 12:00:00\n",
      "Buy BTC at 10940.0 $ 2018-02-19 17:00:00\n",
      "Sell BTC at 8704.0 $ 2018-03-11 07:00:00\n",
      "Buy BTC at 8018.98 $ 2018-04-16 21:00:00\n",
      "Sell BTC at 8665.97 $ 2018-05-14 00:00:00\n",
      "Buy BTC at 6584.36 $ 2018-07-07 10:00:00\n",
      "Sell BTC at 7087.99 $ 2018-08-07 11:00:00\n",
      "Buy BTC at 6902.74 $ 2018-08-28 04:00:00\n",
      "Sell BTC at 6355.0 $ 2018-09-11 03:00:00\n",
      "Buy BTC at 6669.36 $ 2018-09-27 19:00:00\n",
      "Sell BTC at 6309.02 $ 2018-10-12 22:00:00\n",
      "Buy BTC at 6573.58 $ 2018-10-20 10:00:00\n",
      "Sell BTC at 6491.85 $ 2018-10-28 10:00:00\n",
      "Buy BTC at 4125.4 $ 2018-12-24 04:00:00\n",
      "Sell BTC at 3588.24 $ 2019-01-13 02:00:00\n",
      "Buy BTC at 3626.58 $ 2019-02-12 04:00:00\n",
      "Sell BTC at 7660.98 $ 2019-06-09 18:00:00\n",
      "Buy BTC at 9105.21 $ 2019-06-17 06:00:00\n",
      "Sell BTC at 9431.52 $ 2019-07-17 04:00:00\n",
      "Buy BTC at 11692.8 $ 2019-08-06 01:00:00\n",
      "Sell BTC at 10886.0 $ 2019-08-20 01:00:00\n",
      "Buy BTC at 10541.4 $ 2019-09-08 03:00:00\n",
      "Sell BTC at 10028.87 $ 2019-09-22 23:00:00\n",
      "Buy BTC at 9660.0 $ 2019-10-27 17:00:00\n",
      "Sell BTC at 8564.64 $ 2019-11-15 05:00:00\n",
      "Buy BTC at 7206.3 $ 2019-12-27 00:00:00\n",
      "Sell BTC at 9601.09 $ 2020-02-24 19:00:00\n",
      "Buy BTC at 6368.68 $ 2020-04-01 03:00:00\n",
      "Sell BTC at 8859.62 $ 2020-05-27 04:00:00\n",
      "Buy BTC at 10115.56 $ 2020-06-02 11:00:00\n",
      "Sell BTC at 9403.01 $ 2020-06-18 13:00:00\n",
      "Buy BTC at 9290.23 $ 2020-07-13 18:00:00\n",
      "Sell BTC at 9117.69 $ 2020-07-17 10:00:00\n",
      "Buy BTC at 9164.57 $ 2020-07-18 16:00:00\n",
      "Sell BTC at 11400.12 $ 2020-08-27 01:00:00\n",
      "Buy BTC at 10417.22 $ 2020-09-21 23:00:00\n",
      "Sell BTC at 10571.36 $ 2020-10-06 19:00:00\n",
      "Buy BTC at 11363.33 $ 2020-10-10 18:00:00\n",
      "Sell BTC at 32801.15 $ 2021-01-24 07:00:00\n",
      "Buy BTC at 37366.02 $ 2021-02-05 03:00:00\n",
      "Sell BTC at 47789.87 $ 2021-03-02 22:00:00\n",
      "Buy BTC at 54632.79 $ 2021-03-10 08:00:00\n",
      "Sell BTC at 57854.32 $ 2021-03-29 11:00:00\n",
      "Buy BTC at 58670.64 $ 2021-04-02 20:00:00\n",
      "Sell BTC at 54744.24 $ 2021-04-22 14:00:00\n",
      "Buy BTC at 57584.01 $ 2021-05-07 19:00:00\n",
      "Sell BTC at 47964.69 $ 2021-05-15 22:00:00\n",
      "Buy BTC at 39952.7 $ 2021-06-16 09:00:00\n",
      "Sell BTC at 33982.26 $ 2021-06-23 07:00:00\n",
      "Buy BTC at 38242.96 $ 2021-07-27 14:00:00\n",
      "Sell BTC at 45150.33 $ 2021-09-12 06:00:00\n",
      "Buy BTC at 49476.51 $ 2021-10-05 07:00:00\n",
      "Sell BTC at 56989.77 $ 2021-11-19 09:00:00\n",
      "Buy BTC at 51450.57 $ 2021-12-27 15:00:00\n",
      "Sell BTC at 46999.98 $ 2022-01-03 02:00:00\n",
      "Buy BTC at 44065.25 $ 2022-02-07 18:00:00\n",
      "Sell BTC at 38137.91 $ 2022-02-23 00:00:00\n",
      "Buy BTC at 39387.57 $ 2022-03-06 07:00:00\n",
      "Sell BTC at 39316.99 $ 2022-03-10 21:00:00\n",
      "Buy BTC at 41062.31 $ 2022-03-17 05:00:00\n",
      "Sell BTC at 40776.38 $ 2022-03-17 17:00:00\n",
      "Buy BTC at 42191.28 $ 2022-03-19 20:00:00\n",
      "Sell BTC at 40803.87 $ 2022-04-11 14:00:00\n",
      "Buy BTC at 30425.0 $ 2022-06-03 04:00:00\n",
      "Sell BTC at 27932.6 $ 2022-06-12 16:00:00\n",
      "Buy BTC at 20987.27 $ 2022-07-10 20:00:00\n"
     ]
    }
   ],
   "source": [
    "usdt = 1000\n",
    "btc = 0\n",
    "lastIndex = df.first_valid_index()\n",
    "\n",
    "for index, row in df.iterrows():\n",
    "  if df['SMA200'][lastIndex] > df['SMA600'][lastIndex] and usdt > 10:\n",
    "    btc = usdt / df['close'][index] \n",
    "    btc = btc - 0.0007 * btc\n",
    "    usdt = 0\n",
    "    print(\"Buy BTC at\",df['close'][index],'$', index)\n",
    "\n",
    "  if df['SMA200'][lastIndex] < df['SMA600'][lastIndex] and btc > 0.0001:\n",
    "    usdt = btc * df['close'][index]\n",
    "    usdt = usdt - 0.0007 * usdt\n",
    "    btc = 0\n",
    "    print(\"Sell BTC at\",df['close'][index],'$', index)\n",
    "  lastIndex = index"
   ]
  },
  {
   "cell_type": "markdown",
   "id": "a8e73485",
   "metadata": {},
   "source": [
    "# Comparaison Final result with buy and hold result"
   ]
  },
  {
   "cell_type": "code",
   "execution_count": 26,
   "id": "8a156a5b",
   "metadata": {},
   "outputs": [
    {
     "name": "stdout",
     "output_type": "stream",
     "text": [
      "Final result 24943.980041956467 USDT\n"
     ]
    }
   ],
   "source": [
    "fr = usdt + btc * df['close'].iloc[-1]\n",
    "print(\"Final result\",fr,'USDT')"
   ]
  },
  {
   "cell_type": "code",
   "execution_count": 27,
   "id": "7e9080d0",
   "metadata": {},
   "outputs": [
    {
     "name": "stdout",
     "output_type": "stream",
     "text": [
      "Buy and hold result 5332.145849337292 USDT\n"
     ]
    }
   ],
   "source": [
    "print(\"Buy and hold result\", (1000 / df['close'].iloc[0]) * df['close'].iloc[-1],'USDT')"
   ]
  },
  {
   "cell_type": "markdown",
   "id": "bc8e5673",
   "metadata": {},
   "source": [
    "we notice that with our bot we made more benefit than if we bought in 2016 and sold today\n",
    "\n",
    "-with bot --------->23943$ benefits\n",
    "\n",
    "\n",
    "-buy and hold strategy --------->4332$ benefits"
   ]
  }
 ],
 "metadata": {
  "kernelspec": {
   "display_name": "Python 3 (ipykernel)",
   "language": "python",
   "name": "python3"
  },
  "language_info": {
   "codemirror_mode": {
    "name": "ipython",
    "version": 3
   },
   "file_extension": ".py",
   "mimetype": "text/x-python",
   "name": "python",
   "nbconvert_exporter": "python",
   "pygments_lexer": "ipython3",
   "version": "3.9.12"
  }
 },
 "nbformat": 4,
 "nbformat_minor": 5
}
